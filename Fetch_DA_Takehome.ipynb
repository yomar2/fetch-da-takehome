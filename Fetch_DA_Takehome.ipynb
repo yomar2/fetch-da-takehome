{
 "cells": [
  {
   "cell_type": "markdown",
   "id": "9182aea2-790e-45ee-bcdf-f840ff61683b",
   "metadata": {},
   "source": [
    "# Fetch - Data Analyst Take Home"
   ]
  },
  {
   "cell_type": "markdown",
   "id": "f88b71e8-1c6f-4a74-9b9d-80761ceabc77",
   "metadata": {},
   "source": [
    "## 1 - Data Exploration\n",
    "Review the unstructured csv files and answer the following questions with code that supports your conclusions:\n",
    " - Are there any data quality issues present?\n",
    " - Are there any fields that are challenging to understand?"
   ]
  },
  {
   "cell_type": "code",
   "execution_count": 1,
   "id": "6814ecf8-617a-4987-9f20-47a60709b5d4",
   "metadata": {},
   "outputs": [],
   "source": [
    "#I will primarily use Pandas dataframes for this assignment.\n",
    "#Load packages\n",
    "import pandas as pd\n",
    "import numpy as np"
   ]
  },
  {
   "cell_type": "code",
   "execution_count": 2,
   "id": "ca5f53cd-566d-42a2-ae7b-96af22d37a3d",
   "metadata": {},
   "outputs": [],
   "source": [
    "#Read data into dataframes\n",
    "products=pd.read_csv(\"PRODUCTS_TAKEHOME.csv\", dtype={'BARCODE':str}) #load barcode as string because of leading 0s\n",
    "users=pd.read_csv(\"USER_TAKEHOME.csv\")\n",
    "transactions=pd.read_csv(\"TRANSACTION_TAKEHOME.csv\", dtype={'BARCODE':str}) #load barcode as string because of leading 0s"
   ]
  },
  {
   "cell_type": "code",
   "execution_count": 3,
   "id": "1fcfe9ba-3672-41c8-a4c1-99f6cf7e5687",
   "metadata": {},
   "outputs": [
    {
     "data": {
      "text/html": [
       "<div>\n",
       "<style scoped>\n",
       "    .dataframe tbody tr th:only-of-type {\n",
       "        vertical-align: middle;\n",
       "    }\n",
       "\n",
       "    .dataframe tbody tr th {\n",
       "        vertical-align: top;\n",
       "    }\n",
       "\n",
       "    .dataframe thead th {\n",
       "        text-align: right;\n",
       "    }\n",
       "</style>\n",
       "<table border=\"1\" class=\"dataframe\">\n",
       "  <thead>\n",
       "    <tr style=\"text-align: right;\">\n",
       "      <th></th>\n",
       "      <th>CATEGORY_1</th>\n",
       "      <th>CATEGORY_2</th>\n",
       "      <th>CATEGORY_3</th>\n",
       "      <th>CATEGORY_4</th>\n",
       "      <th>MANUFACTURER</th>\n",
       "      <th>BRAND</th>\n",
       "      <th>BARCODE</th>\n",
       "    </tr>\n",
       "  </thead>\n",
       "  <tbody>\n",
       "    <tr>\n",
       "      <th>0</th>\n",
       "      <td>Health &amp; Wellness</td>\n",
       "      <td>Sexual Health</td>\n",
       "      <td>Conductivity Gels &amp; Lotions</td>\n",
       "      <td>NaN</td>\n",
       "      <td>NaN</td>\n",
       "      <td>NaN</td>\n",
       "      <td>796494407820</td>\n",
       "    </tr>\n",
       "    <tr>\n",
       "      <th>1</th>\n",
       "      <td>Snacks</td>\n",
       "      <td>Puffed Snacks</td>\n",
       "      <td>Cheese Curls &amp; Puffs</td>\n",
       "      <td>NaN</td>\n",
       "      <td>NaN</td>\n",
       "      <td>NaN</td>\n",
       "      <td>023278011028</td>\n",
       "    </tr>\n",
       "    <tr>\n",
       "      <th>2</th>\n",
       "      <td>Health &amp; Wellness</td>\n",
       "      <td>Hair Care</td>\n",
       "      <td>Hair Care Accessories</td>\n",
       "      <td>NaN</td>\n",
       "      <td>PLACEHOLDER MANUFACTURER</td>\n",
       "      <td>ELECSOP</td>\n",
       "      <td>461817824225</td>\n",
       "    </tr>\n",
       "    <tr>\n",
       "      <th>3</th>\n",
       "      <td>Health &amp; Wellness</td>\n",
       "      <td>Oral Care</td>\n",
       "      <td>Toothpaste</td>\n",
       "      <td>NaN</td>\n",
       "      <td>COLGATE-PALMOLIVE</td>\n",
       "      <td>COLGATE</td>\n",
       "      <td>035000466815</td>\n",
       "    </tr>\n",
       "    <tr>\n",
       "      <th>4</th>\n",
       "      <td>Health &amp; Wellness</td>\n",
       "      <td>Medicines &amp; Treatments</td>\n",
       "      <td>Essential Oils</td>\n",
       "      <td>NaN</td>\n",
       "      <td>MAPLE HOLISTICS AND HONEYDEW PRODUCTS INTERCHA...</td>\n",
       "      <td>MAPLE HOLISTICS</td>\n",
       "      <td>0806810850459</td>\n",
       "    </tr>\n",
       "  </tbody>\n",
       "</table>\n",
       "</div>"
      ],
      "text/plain": [
       "          CATEGORY_1              CATEGORY_2                   CATEGORY_3  \\\n",
       "0  Health & Wellness           Sexual Health  Conductivity Gels & Lotions   \n",
       "1             Snacks           Puffed Snacks         Cheese Curls & Puffs   \n",
       "2  Health & Wellness               Hair Care        Hair Care Accessories   \n",
       "3  Health & Wellness               Oral Care                   Toothpaste   \n",
       "4  Health & Wellness  Medicines & Treatments               Essential Oils   \n",
       "\n",
       "  CATEGORY_4                                       MANUFACTURER  \\\n",
       "0        NaN                                                NaN   \n",
       "1        NaN                                                NaN   \n",
       "2        NaN                           PLACEHOLDER MANUFACTURER   \n",
       "3        NaN                                  COLGATE-PALMOLIVE   \n",
       "4        NaN  MAPLE HOLISTICS AND HONEYDEW PRODUCTS INTERCHA...   \n",
       "\n",
       "             BRAND        BARCODE  \n",
       "0              NaN   796494407820  \n",
       "1              NaN   023278011028  \n",
       "2          ELECSOP   461817824225  \n",
       "3          COLGATE   035000466815  \n",
       "4  MAPLE HOLISTICS  0806810850459  "
      ]
     },
     "execution_count": 3,
     "metadata": {},
     "output_type": "execute_result"
    }
   ],
   "source": [
    "products.head()"
   ]
  },
  {
   "cell_type": "code",
   "execution_count": 4,
   "id": "ae94d72a-5a9d-4fac-9257-ecf603c139a3",
   "metadata": {},
   "outputs": [
    {
     "data": {
      "text/html": [
       "<div>\n",
       "<style scoped>\n",
       "    .dataframe tbody tr th:only-of-type {\n",
       "        vertical-align: middle;\n",
       "    }\n",
       "\n",
       "    .dataframe tbody tr th {\n",
       "        vertical-align: top;\n",
       "    }\n",
       "\n",
       "    .dataframe thead th {\n",
       "        text-align: right;\n",
       "    }\n",
       "</style>\n",
       "<table border=\"1\" class=\"dataframe\">\n",
       "  <thead>\n",
       "    <tr style=\"text-align: right;\">\n",
       "      <th></th>\n",
       "      <th>ID</th>\n",
       "      <th>CREATED_DATE</th>\n",
       "      <th>BIRTH_DATE</th>\n",
       "      <th>STATE</th>\n",
       "      <th>LANGUAGE</th>\n",
       "      <th>GENDER</th>\n",
       "    </tr>\n",
       "  </thead>\n",
       "  <tbody>\n",
       "    <tr>\n",
       "      <th>0</th>\n",
       "      <td>5ef3b4f17053ab141787697d</td>\n",
       "      <td>2020-06-24 20:17:54.000 Z</td>\n",
       "      <td>2000-08-11 00:00:00.000 Z</td>\n",
       "      <td>CA</td>\n",
       "      <td>es-419</td>\n",
       "      <td>female</td>\n",
       "    </tr>\n",
       "    <tr>\n",
       "      <th>1</th>\n",
       "      <td>5ff220d383fcfc12622b96bc</td>\n",
       "      <td>2021-01-03 19:53:55.000 Z</td>\n",
       "      <td>2001-09-24 04:00:00.000 Z</td>\n",
       "      <td>PA</td>\n",
       "      <td>en</td>\n",
       "      <td>female</td>\n",
       "    </tr>\n",
       "    <tr>\n",
       "      <th>2</th>\n",
       "      <td>6477950aa55bb77a0e27ee10</td>\n",
       "      <td>2023-05-31 18:42:18.000 Z</td>\n",
       "      <td>1994-10-28 00:00:00.000 Z</td>\n",
       "      <td>FL</td>\n",
       "      <td>es-419</td>\n",
       "      <td>female</td>\n",
       "    </tr>\n",
       "    <tr>\n",
       "      <th>3</th>\n",
       "      <td>658a306e99b40f103b63ccf8</td>\n",
       "      <td>2023-12-26 01:46:22.000 Z</td>\n",
       "      <td>NaN</td>\n",
       "      <td>NC</td>\n",
       "      <td>en</td>\n",
       "      <td>NaN</td>\n",
       "    </tr>\n",
       "    <tr>\n",
       "      <th>4</th>\n",
       "      <td>653cf5d6a225ea102b7ecdc2</td>\n",
       "      <td>2023-10-28 11:51:50.000 Z</td>\n",
       "      <td>1972-03-19 00:00:00.000 Z</td>\n",
       "      <td>PA</td>\n",
       "      <td>en</td>\n",
       "      <td>female</td>\n",
       "    </tr>\n",
       "  </tbody>\n",
       "</table>\n",
       "</div>"
      ],
      "text/plain": [
       "                         ID               CREATED_DATE  \\\n",
       "0  5ef3b4f17053ab141787697d  2020-06-24 20:17:54.000 Z   \n",
       "1  5ff220d383fcfc12622b96bc  2021-01-03 19:53:55.000 Z   \n",
       "2  6477950aa55bb77a0e27ee10  2023-05-31 18:42:18.000 Z   \n",
       "3  658a306e99b40f103b63ccf8  2023-12-26 01:46:22.000 Z   \n",
       "4  653cf5d6a225ea102b7ecdc2  2023-10-28 11:51:50.000 Z   \n",
       "\n",
       "                  BIRTH_DATE STATE LANGUAGE  GENDER  \n",
       "0  2000-08-11 00:00:00.000 Z    CA   es-419  female  \n",
       "1  2001-09-24 04:00:00.000 Z    PA       en  female  \n",
       "2  1994-10-28 00:00:00.000 Z    FL   es-419  female  \n",
       "3                        NaN    NC       en     NaN  \n",
       "4  1972-03-19 00:00:00.000 Z    PA       en  female  "
      ]
     },
     "execution_count": 4,
     "metadata": {},
     "output_type": "execute_result"
    }
   ],
   "source": [
    "users.head()"
   ]
  },
  {
   "cell_type": "code",
   "execution_count": 5,
   "id": "65782a39-3e76-4d7e-bcf2-441c43e0fcf4",
   "metadata": {},
   "outputs": [
    {
     "data": {
      "text/html": [
       "<div>\n",
       "<style scoped>\n",
       "    .dataframe tbody tr th:only-of-type {\n",
       "        vertical-align: middle;\n",
       "    }\n",
       "\n",
       "    .dataframe tbody tr th {\n",
       "        vertical-align: top;\n",
       "    }\n",
       "\n",
       "    .dataframe thead th {\n",
       "        text-align: right;\n",
       "    }\n",
       "</style>\n",
       "<table border=\"1\" class=\"dataframe\">\n",
       "  <thead>\n",
       "    <tr style=\"text-align: right;\">\n",
       "      <th></th>\n",
       "      <th>RECEIPT_ID</th>\n",
       "      <th>PURCHASE_DATE</th>\n",
       "      <th>SCAN_DATE</th>\n",
       "      <th>STORE_NAME</th>\n",
       "      <th>USER_ID</th>\n",
       "      <th>BARCODE</th>\n",
       "      <th>FINAL_QUANTITY</th>\n",
       "      <th>FINAL_SALE</th>\n",
       "    </tr>\n",
       "  </thead>\n",
       "  <tbody>\n",
       "    <tr>\n",
       "      <th>0</th>\n",
       "      <td>0000d256-4041-4a3e-adc4-5623fb6e0c99</td>\n",
       "      <td>2024-08-21</td>\n",
       "      <td>2024-08-21 14:19:06.539 Z</td>\n",
       "      <td>WALMART</td>\n",
       "      <td>63b73a7f3d310dceeabd4758</td>\n",
       "      <td>015300014978</td>\n",
       "      <td>1.00</td>\n",
       "      <td></td>\n",
       "    </tr>\n",
       "    <tr>\n",
       "      <th>1</th>\n",
       "      <td>0001455d-7a92-4a7b-a1d2-c747af1c8fd3</td>\n",
       "      <td>2024-07-20</td>\n",
       "      <td>2024-07-20 09:50:24.206 Z</td>\n",
       "      <td>ALDI</td>\n",
       "      <td>62c08877baa38d1a1f6c211a</td>\n",
       "      <td>NaN</td>\n",
       "      <td>zero</td>\n",
       "      <td>1.49</td>\n",
       "    </tr>\n",
       "    <tr>\n",
       "      <th>2</th>\n",
       "      <td>00017e0a-7851-42fb-bfab-0baa96e23586</td>\n",
       "      <td>2024-08-18</td>\n",
       "      <td>2024-08-19 15:38:56.813 Z</td>\n",
       "      <td>WALMART</td>\n",
       "      <td>60842f207ac8b7729e472020</td>\n",
       "      <td>078742229751</td>\n",
       "      <td>1.00</td>\n",
       "      <td></td>\n",
       "    </tr>\n",
       "    <tr>\n",
       "      <th>3</th>\n",
       "      <td>000239aa-3478-453d-801e-66a82e39c8af</td>\n",
       "      <td>2024-06-18</td>\n",
       "      <td>2024-06-19 11:03:37.468 Z</td>\n",
       "      <td>FOOD LION</td>\n",
       "      <td>63fcd7cea4f8442c3386b589</td>\n",
       "      <td>783399746536</td>\n",
       "      <td>zero</td>\n",
       "      <td>3.49</td>\n",
       "    </tr>\n",
       "    <tr>\n",
       "      <th>4</th>\n",
       "      <td>00026b4c-dfe8-49dd-b026-4c2f0fd5c6a1</td>\n",
       "      <td>2024-07-04</td>\n",
       "      <td>2024-07-05 15:56:43.549 Z</td>\n",
       "      <td>RANDALLS</td>\n",
       "      <td>6193231ae9b3d75037b0f928</td>\n",
       "      <td>047900501183</td>\n",
       "      <td>1.00</td>\n",
       "      <td></td>\n",
       "    </tr>\n",
       "  </tbody>\n",
       "</table>\n",
       "</div>"
      ],
      "text/plain": [
       "                             RECEIPT_ID PURCHASE_DATE  \\\n",
       "0  0000d256-4041-4a3e-adc4-5623fb6e0c99    2024-08-21   \n",
       "1  0001455d-7a92-4a7b-a1d2-c747af1c8fd3    2024-07-20   \n",
       "2  00017e0a-7851-42fb-bfab-0baa96e23586    2024-08-18   \n",
       "3  000239aa-3478-453d-801e-66a82e39c8af    2024-06-18   \n",
       "4  00026b4c-dfe8-49dd-b026-4c2f0fd5c6a1    2024-07-04   \n",
       "\n",
       "                   SCAN_DATE STORE_NAME                   USER_ID  \\\n",
       "0  2024-08-21 14:19:06.539 Z    WALMART  63b73a7f3d310dceeabd4758   \n",
       "1  2024-07-20 09:50:24.206 Z       ALDI  62c08877baa38d1a1f6c211a   \n",
       "2  2024-08-19 15:38:56.813 Z    WALMART  60842f207ac8b7729e472020   \n",
       "3  2024-06-19 11:03:37.468 Z  FOOD LION  63fcd7cea4f8442c3386b589   \n",
       "4  2024-07-05 15:56:43.549 Z   RANDALLS  6193231ae9b3d75037b0f928   \n",
       "\n",
       "        BARCODE FINAL_QUANTITY FINAL_SALE  \n",
       "0  015300014978           1.00             \n",
       "1           NaN           zero       1.49  \n",
       "2  078742229751           1.00             \n",
       "3  783399746536           zero       3.49  \n",
       "4  047900501183           1.00             "
      ]
     },
     "execution_count": 5,
     "metadata": {},
     "output_type": "execute_result"
    }
   ],
   "source": [
    "transactions.head()"
   ]
  },
  {
   "cell_type": "code",
   "execution_count": 6,
   "id": "7f87e1ff-a7f4-485c-a276-f3a21697378c",
   "metadata": {},
   "outputs": [
    {
     "data": {
      "text/plain": [
       "np.int64(100000)"
      ]
     },
     "execution_count": 6,
     "metadata": {},
     "output_type": "execute_result"
    }
   ],
   "source": [
    "#Check uniqueness of user IDs\n",
    "users['ID'].count()"
   ]
  },
  {
   "cell_type": "code",
   "execution_count": 7,
   "id": "9e29aaea-656f-4a25-8c55-6948cfdedc43",
   "metadata": {},
   "outputs": [
    {
     "data": {
      "text/plain": [
       "100000"
      ]
     },
     "execution_count": 7,
     "metadata": {},
     "output_type": "execute_result"
    }
   ],
   "source": [
    "#unique count matches total count so all user IDs are unique\n",
    "len(users['ID'].unique())"
   ]
  },
  {
   "cell_type": "code",
   "execution_count": 8,
   "id": "9fe7d834-b710-4b9f-bac9-b1938b85980c",
   "metadata": {},
   "outputs": [
    {
     "data": {
      "text/plain": [
       "'2022-04-03 07:00:00.000 Z'"
      ]
     },
     "execution_count": 8,
     "metadata": {},
     "output_type": "execute_result"
    }
   ],
   "source": [
    "#check if dates make sense in users\n",
    "#min(users['CREATED_DATE']) #In 2014\n",
    "#max(users['CREATED_DATE']) #In 2024\n",
    "#min(users['BIRTH_DATE'].replace({np.nan: '2025-01-22'})) #'1900-01-01 00:00:00.000 Z'\n",
    "max(users['BIRTH_DATE'].replace({np.nan: ''})) #Gen Alpha is tech savvy, but probably not this savvy :)"
   ]
  },
  {
   "cell_type": "code",
   "execution_count": 9,
   "id": "0d8f62c6-561d-491c-86a0-03d00838e898",
   "metadata": {},
   "outputs": [],
   "source": [
    "#check if dates make sense in transactions\n",
    "#min(transactions['PURCHASE_DATE']) #In 2024\n",
    "#max(transactions['PURCHASE_DATE']) #In 2024\n",
    "#min(transactions['SCAN_DATE']) #June 2024\n",
    "#max(transactions['SCAN_DATE']) #Sept 2024"
   ]
  },
  {
   "cell_type": "markdown",
   "id": "5d049910-e5a3-495e-aa96-3fb2f314d1d7",
   "metadata": {},
   "source": [
    "## 1 - Answers\n",
    "<b> Are there any data quality issues present? </b>\\\n",
    "Yes, below is a list:\n",
    " - Incomplete or missing data\n",
    "     - Ex/ Birth date in Users, Barcodes in Transactions, Manufacturer or Brand in Products\n",
    " - Type mixing\n",
    "     - Ex/ Final quantity has 'zero' instead of 0 in Transactions\n",
    " - Inaccurate data\n",
    "     - Ex/ Records with a quantity of zero, but a final sale value that isn't zero in Transactions,\\\n",
    "       Records with a quantity greater than zero, but no final sale value in Transactions,\\\n",
    "       Records with a manufacturer of 'PLACEHOLDER MANUFACTURER' in Products,\\\n",
    "       Records with a birth date that is too recent in Users\n",
    " - Empty strings vs NULLs\n",
    "     - Ex/ Final sale as ' ' in Transactions\n",
    " - Potential duplicates\n",
    "     - Ex/ Dove and Dove Men+Care might be duplicates for Brand in Products \n",
    "   \n",
    "<b> Are there any fields that are challenging to understand? </b>\\\n",
    "Yes, there are. Final quantity and final sale are especially not clear. Is final sale accounting for discounts? Is the amount already multiplied by quantity?\n"
   ]
  },
  {
   "cell_type": "markdown",
   "id": "15001c7a-8876-4437-b812-ee2343e1b6d6",
   "metadata": {},
   "source": [
    "## 2 - SQL Queries\n",
    "Answer <b>three</b> of the following questions with at least one question coming from the closed-ended and one from the open-ended question set. Each question should be answered using one query.\n",
    "### Closed-ended questions:\n",
    " - <b>What are the top 5 brands by receipts scanned among users 21 and over?</b>\n",
    " - <b>What are the top 5 brands by sales among users that have had their account for at least six months?</b>\n",
    " - What is the percentage of sales in the Health & Wellness category by generation?\n",
    "### Open-ended questions:\n",
    "For these, make assumptions and clearly state them when answering the question.\n",
    " - Who are Fetch’s power users?\n",
    " - Which is the leading brand in the Dips & Salsa category?\n",
    " - <b>At what percent has Fetch grown year over year?</b>"
   ]
  },
  {
   "cell_type": "markdown",
   "id": "cd79f85f-e5dd-4fd2-b098-c012199f6489",
   "metadata": {},
   "source": [
    "## 2 - Answers\n",
    "<b>What are the top 5 brands by receipts scanned among users 21 and over?</b>\\\n",
    "Assumptions:\n",
    "- Consider all receipts by a user that is now 21 or over. Otherwise, we would also need to filter the receipts by what age the user was when the receipt was submitted.\n",
    "- Consider all the times a brand appears on a receipt in the count, but do not multiply by the product's quantity.\n",
    "\n",
    "SQL Query:\n",
    "```\n",
    "--Calculate the users age\n",
    "WITH UsersAge AS (\n",
    "    SELECT\n",
    "        id,\n",
    "        birth_date,\n",
    "        CASE WHEN dateadd(year, datediff (year, birth_date, getdate()), birth_date) > getdate()\n",
    "            THEN datediff(year, birth_date, getdate()) - 1\n",
    "            ELSE datediff(year, birth_date, getdate())\n",
    "       END as age\n",
    "    FROM Users\n",
    "),\n",
    "--Filter to the appropriate data set\n",
    "FinalSubset AS (\n",
    "    SELECT\n",
    "        T.receipt_id,\n",
    "        P.brand\n",
    "    INTO #FinalSubset\n",
    "    FROM Transactions AS T\n",
    "    INNER JOIN UsersAge as UA \n",
    "        ON UA.id = T.user_id\n",
    "    INNER JOIN Products as P\n",
    "        ON P.barcode = T.barcode\n",
    "    WHERE age >=21 --Filter to receipts submitted by users 21 and over\n",
    ")\n",
    "SELECT TOP 5\n",
    "    brand,\n",
    "    count(*) as receipts\n",
    "FROM FinalSubset\n",
    "GROUP BY brand\n",
    "ORDER BY receipts DESC\n",
    ";\n",
    "```"
   ]
  },
  {
   "cell_type": "markdown",
   "id": "b09afb36-0554-4d28-8096-1f3cbb35b0ab",
   "metadata": {},
   "source": [
    "<b>What are the top 5 brands by sales among users that have had their account for at least six months?</b>\\\n",
    "Assumptions:\n",
    "- Consider all receipts by a user that has now had their account for at least six months.\n",
    "- Users have just one account.\n",
    "- The sale column already accounts for discounts and quantity.\n",
    "- We will not consider products with an unknown barcode/brand. (Otherwise, change the inner join with Products to a left join.)\n",
    "```\n",
    "--Filter to the appropriate dataset, aka receipts from users that have had their account for 6+ months\n",
    "WITH FinalSubset AS (\n",
    "    SELECT\n",
    "        P.brand,\n",
    "        T.sale\n",
    "    INTO #FinalSubset\n",
    "    FROM Transactions AS T\n",
    "    INNER JOIN Users as U\n",
    "        ON U.id = T.user_id\n",
    "    INNER JOIN Products as P\n",
    "        ON P.barcode = T.barcode\n",
    "    WHERE datediff(day,getdate(),U.created_date) > 180 --Filter to users that have had an account for at least 6 months\n",
    ")\n",
    "SELECT TOP 5\n",
    "    brand,\n",
    "    SUM(sale) as totalsales\n",
    "FROM FinalSubset\n",
    "GROUP BY brand\n",
    "ORDER BY totalsales DESC\n",
    ";\n",
    "```"
   ]
  },
  {
   "cell_type": "markdown",
   "id": "d25a532f-0450-41fc-91ce-f25eba9a6d73",
   "metadata": {},
   "source": [
    "<b>At what percent has Fetch grown year over year?</b>\\\n",
    "Assumptions:\n",
    "- The total sales on the receipts don't have an impact on Fetch's growth. Otherwise, it would be worth looking at total sales instead of number of receipts.\n",
    "- Scan date is more relevant in this case than purchase date.\n",
    "\n",
    "For this open ended question, I am considering two main metrics to measure Fetch's growth YOY. These two metrics are simple: number of users and number of receipts scanned.\n",
    "\n",
    "SQL Query\n",
    "```\n",
    "-- Get the count of users by sign up year\n",
    "WITH CTE1 AS (\n",
    "  SELECT\n",
    "      datepart(year, created_date) as year,\n",
    "      count(*) as totalusers\n",
    "  FROM Users\n",
    "  GROUP BY datepart(year, created_date)\n",
    "),\n",
    "-- Get the count of receipts by scan year (account for the fact Transactions is receipt and product level)\n",
    "CTE2 AS (\n",
    "  SELECT\n",
    "      datepart(year, scan_date) as year,\n",
    "      COUNT(DISTINCT receipt_id) as totalreceipts\n",
    "  FROM Transactions\n",
    "  GROUP BY datepart(year, scan_date)\n",
    ")\n",
    "-- Return the results in a way that combines the two main metrics\n",
    "SELECT\n",
    "  year,\n",
    "  totalusers\n",
    "FROM CTE1\n",
    "UNION\n",
    "SELECT\n",
    "  year,\n",
    "  totalreceipts\n",
    "FROM CTE2\n",
    "order by year\n",
    ";\n",
    "```"
   ]
  },
  {
   "cell_type": "markdown",
   "id": "801b5273-1665-44aa-abcd-1a32c75cbba9",
   "metadata": {},
   "source": [
    "## 3 - Stakeholder Communication\n",
    "Construct an email or slack message that is understandable to a product or business leader who is not familiar with your day-to-day work. Summarize the results of your investigation. Include:\n",
    " - Key data quality issues and outstanding questions about the data\n",
    " - One interesting trend in the data\n",
    "   - Use a finding from part 2 or come up with a new insight\n",
    " - Request for action: explain what additional help, info, etc. you need to make sense of the data and resolve any outstanding issues"
   ]
  },
  {
   "cell_type": "markdown",
   "id": "6561c15a-f43f-4453-94bf-7944c2b2f5df",
   "metadata": {},
   "source": [
    "## 3 - Answer\n",
    "For this exercise, I will use insights from the following question: <b>\"What are the top 5 brands by sales among users that have had their account for at least six months?\"</b>\n",
    "\n",
    "**Email Subject:** Insights & Next Steps for Top Brands Analysis\n",
    "\n",
    "Good morning,\n",
    "\n",
    "I wanted to share an update on the top brands analysis. Here’s a summary of the key insights and next steps:\n",
    "\n",
    "**Key Insights:**\n",
    "- Our top 5 brands by sales from June to September 2024 are:  \n",
    "  1. Coca-Cola  \n",
    "  2. Annie’s  \n",
    "  3. Dove  \n",
    "  4. Barefoot  \n",
    "  5. Oribe  \n",
    "\n",
    "<i>[Include below data visualizations here]</i>\n",
    "\n",
    "**Notes:**\n",
    "- I’ve filtered for users who have had their account for at least six months, to focus on long-term, engaged customers. Let me know if this timeframe works for you, or if you’d prefer a different period.\n",
    "- Some products are missing brand or barcode information, so I’ve excluded these from the analysis.\n",
    "\n",
    "\n",
    "**Next Steps:**\n",
    "- **Manufacturer vs. Brand**: Would it be valuable to include manufacturers in addition to brands in this analysis? This could give us a more complete view of performance trends across product categories.\n",
    "- **Data Filters**: Does the six-month filter on user accounts align with your needs? If not, would you prefer a different timeframe or are there other customer segments we should explore?\n",
    "\n",
    "Once we align on these details, I can refine the analysis and provide a clearer picture of top brand performance.\n",
    "\n",
    "Thank you!"
   ]
  },
  {
   "cell_type": "code",
   "execution_count": 10,
   "id": "8da95f46-992c-4555-a11f-5bf34e414cde",
   "metadata": {},
   "outputs": [],
   "source": [
    "#Add a column to calculate account age\n",
    "users[\"account_age_days\"] = (pd.to_datetime(pd.Timestamp.utcnow()) - pd.to_datetime(users['CREATED_DATE'])).dt.days\n",
    "#Check calculations\n",
    "#users.head()\n",
    "#create df with appropriate users filtered\n",
    "users_atleast_6mo = users.loc[users['account_age_days']>180]"
   ]
  },
  {
   "cell_type": "code",
   "execution_count": 11,
   "id": "0e1fe5a9-ee1d-425a-8bc8-cc25ebb6edca",
   "metadata": {},
   "outputs": [],
   "source": [
    "#Merge dataframes and use inner join to filter\n",
    "#NOTE: This also filters out products with an unknown barcode\n",
    "transactions_products = transactions.merge(products, how='inner', on='BARCODE')\n",
    "final_dataset = transactions_products.merge(users_atleast_6mo, how='inner', left_on='USER_ID', right_on='ID')\n",
    "#final_dataset.head()"
   ]
  },
  {
   "cell_type": "code",
   "execution_count": 12,
   "id": "70d4a979-48d1-4eaf-84d6-3172e7808c5a",
   "metadata": {},
   "outputs": [],
   "source": [
    "#data cleanup\n",
    "final_dataset['FINAL_QUANTITY'] = final_dataset['FINAL_QUANTITY'].replace(\"zero\",0).astype(float)\n",
    "final_dataset['FINAL_SALE'] = final_dataset['FINAL_SALE'].replace(\" \",0).astype(float)\n",
    "\n",
    "final_dataset_grouped = final_dataset.groupby(\"BRAND\")[\"FINAL_SALE\"].sum()"
   ]
  },
  {
   "cell_type": "code",
   "execution_count": 13,
   "id": "8712925d-2b8b-475f-ba8f-a26594005b4e",
   "metadata": {},
   "outputs": [
    {
     "data": {
      "text/plain": [
       "<Axes: xlabel='BRAND'>"
      ]
     },
     "execution_count": 13,
     "metadata": {},
     "output_type": "execute_result"
    },
    {
     "data": {
      "image/png": "[encoded data removed]",
      "text/plain": [
       "<Figure size 640x480 with 1 Axes>"
      ]
     },
     "metadata": {},
     "output_type": "display_data"
    }
   ],
   "source": [
    "final_dataset_grouped.nlargest(10).plot(kind=\"bar\")"
   ]
  }
 ],
 "metadata": {
  "kernelspec": {
   "display_name": "Python 3 (ipykernel)",
   "language": "python",
   "name": "python3"
  },
  "language_info": {
   "codemirror_mode": {
    "name": "ipython",
    "version": 3
   },
   "file_extension": ".py",
   "mimetype": "text/x-python",
   "name": "python",
   "nbconvert_exporter": "python",
   "pygments_lexer": "ipython3",
   "version": "3.12.8"
  }
 },
 "nbformat": 4,
 "nbformat_minor": 5
}
